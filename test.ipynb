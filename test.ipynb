{
 "cells": [
  {
   "cell_type": "code",
   "execution_count": 112,
   "metadata": {},
   "outputs": [],
   "source": [
    "client_id ='nq065rFkSyI0GYBdkSP10rX2YBGFr3IJa2zjB15e'\n",
    "client_secret = '5EOyF0LdZWWk6DF2eq2MAwO2oKEZTfkdjzfVONokZmwSE5HzbHtAOzUAbAzUM35lk2uvZstbYyrBGQSvdAbt2g2CcKh5yaZ2kfA1GLjMwmYQI9sojURp41EaU3wbDxyS'\n",
    "password = 'reborn'\n",
    "username = 'kylemore'\n",
    "headers = {\n",
    "  'Content-Type': 'application/x-www-form-urlencoded'\n",
    "}\n",
    "data={\"username\":username, \"password\":password, \"client_id\":client_id, \"client_secret\": client_secret, \"grant_type\": \"password\"}"
   ]
  },
  {
   "cell_type": "code",
   "execution_count": 113,
   "metadata": {},
   "outputs": [
    {
     "data": {
      "text/plain": [
       "'4d9FvAM1BXnV9E5Ncmw475lGSB8QEM'"
      ]
     },
     "execution_count": 113,
     "metadata": {},
     "output_type": "execute_result"
    }
   ],
   "source": [
    "import requests\n",
    "# def get_token(username,password,client_id,client_secret):\n",
    "r = requests.post('https://online-go.com/oauth2/token/', data)\n",
    "token = r.json()['access_token']\n",
    "token"
   ]
  },
  {
   "cell_type": "code",
   "execution_count": 110,
   "metadata": {},
   "outputs": [],
   "source": [
    "params = {\"username\":username, \"password\":password, \"client_id\":client_id, \"client_secret\": client_secret, \"grant_type\": \"password\",\"Authorization\" : \"Bearer \" + token}"
   ]
  },
  {
   "cell_type": "code",
   "execution_count": 116,
   "metadata": {},
   "outputs": [
    {
     "data": {
      "text/plain": [
       "{'count': 1,\n",
       " 'next': None,\n",
       " 'previous': None,\n",
       " 'results': [{'id': 387904,\n",
       "   'username': 'Machyu',\n",
       "   'country': 'fr',\n",
       "   'icon': 'https://b0c2ddc39d13e1c0ddad-93a52a5bc9e7cc06050c1a999beb3694.ssl.cf1.rackcdn.com/5e0a246918b95f6fa7f3da4e6ee6dfb1-32.png',\n",
       "   'ratings': {'version': 5,\n",
       "    'overall': {'rating': 2070.8859494306553,\n",
       "     'deviation': 66.0057111598278,\n",
       "     'volatility': 0.05999264575971825}},\n",
       "   'ranking': 31.769521150006884,\n",
       "   'professional': False,\n",
       "   'ui_class': ''}]}"
      ]
     },
     "execution_count": 116,
     "metadata": {},
     "output_type": "execute_result"
    }
   ],
   "source": [
    "url = 'http://online-go.com/api/v1/players/'\n",
    "response = requests.post(url,data={\"username\":username, \"password\":password, \"client_id\":client_id, \"client_secret\": client_secret, \"grant_type\": \"password\",\"Authorization\" : \"Bearer \" + token},params={'username': 'Machyu'})\n",
    "response.json()"
   ]
  }
 ],
 "metadata": {
  "kernelspec": {
   "display_name": "jng",
   "language": "python",
   "name": "python3"
  },
  "language_info": {
   "codemirror_mode": {
    "name": "ipython",
    "version": 3
   },
   "file_extension": ".py",
   "mimetype": "text/x-python",
   "name": "python",
   "nbconvert_exporter": "python",
   "pygments_lexer": "ipython3",
   "version": "3.10.8 (main, Nov  4 2022, 13:48:29) [GCC 11.2.0]"
  },
  "orig_nbformat": 4,
  "vscode": {
   "interpreter": {
    "hash": "37227ed9c485f36684c918ad2ebf286762189d6ce6ae0d84fce244b97886ca3c"
   }
  }
 },
 "nbformat": 4,
 "nbformat_minor": 2
}
